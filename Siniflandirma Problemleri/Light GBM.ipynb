{
 "cells": [
  {
   "cell_type": "code",
   "execution_count": 12,
   "id": "c8c759bb",
   "metadata": {},
   "outputs": [],
   "source": [
    "import numpy as np\n",
    "import pandas as pd\n",
    "import statsmodels.api as sm\n",
    "import statsmodels.formula.api as smf\n",
    "import seaborn as sns\n",
    "from sklearn.preprocessing import scale\n",
    "from sklearn.model_selection import train_test_split,GridSearchCV,cross_val_score\n",
    "from sklearn.metrics import confusion_matrix,accuracy_score,classification_report\n",
    "from sklearn.metrics import roc_auc_score\n",
    "import statsmodels.formula.api as smf\n",
    "import matplotlib.pyplot as plt\n",
    "from sklearn.neighbors import KNeighborsClassifier\n",
    "from sklearn.discriminant_analysis import LinearDiscriminantAnalysis\n",
    "from sklearn.linear_model import LogisticRegression\n",
    "from sklearn.svm import SVC\n",
    "from sklearn.naive_bayes import GaussianNB\n",
    "from sklearn import tree\n",
    "from sklearn.ensemble import RandomForestClassifier\n",
    "from sklearn.ensemble import GradientBoostingClassifier\n",
    "from xgboost import XGBClassifier\n",
    "from lightgbm import LGBMClassifier\n",
    "from catboost import CatBoostClassifier\n",
    "from warnings import filterwarnings"
   ]
  },
  {
   "cell_type": "code",
   "execution_count": 13,
   "id": "dfdda8cf",
   "metadata": {},
   "outputs": [],
   "source": [
    "diabetes = pd.read_csv(\"diabetes.csv\")\n",
    "df = diabetes.copy()\n",
    "df = df.dropna()\n",
    "y = df[\"Outcome\"]\n",
    "x = df.drop([\"Outcome\"], axis = 1)\n",
    "x = pd.DataFrame(x)\n",
    "x_train, x_test, y_train, y_test = train_test_split(x,y,\n",
    "                                                   test_size= 0.30,\n",
    "                                                   random_state= 42)"
   ]
  },
  {
   "cell_type": "code",
   "execution_count": 14,
   "id": "10aeafce",
   "metadata": {},
   "outputs": [],
   "source": [
    "lgbm_model = LGBMClassifier().fit(x_train,y_train)"
   ]
  },
  {
   "cell_type": "code",
   "execution_count": 15,
   "id": "427999e8",
   "metadata": {},
   "outputs": [
    {
     "data": {
      "text/plain": [
       "0.7229437229437229"
      ]
     },
     "execution_count": 15,
     "metadata": {},
     "output_type": "execute_result"
    }
   ],
   "source": [
    "y_pred = lgbm_model.predict(x_test)\n",
    "accuracy_score(y_pred,y_test)"
   ]
  },
  {
   "cell_type": "markdown",
   "id": "13e61a39",
   "metadata": {},
   "source": [
    "# Model Tuning"
   ]
  },
  {
   "cell_type": "code",
   "execution_count": 5,
   "id": "d5bf1f4d",
   "metadata": {},
   "outputs": [],
   "source": [
    "?lgbm_model"
   ]
  },
  {
   "cell_type": "code",
   "execution_count": 16,
   "id": "27c5127f",
   "metadata": {},
   "outputs": [],
   "source": [
    "lgbm_params = {\"n_estimators\": [100,500,1000,2000],\n",
    "             \"subsample\":[0.6,0.8,1.0],\n",
    "             \"max_depth\": [3,4,5,6],\n",
    "             \"learning_rate\":[0.1,0.01,0.02,0.05],\n",
    "             \"min_child_samples\": [5,10,20]}"
   ]
  },
  {
   "cell_type": "code",
   "execution_count": 17,
   "id": "f02b0e38",
   "metadata": {},
   "outputs": [],
   "source": [
    "lgbm = LGBMClassifier()\n",
    "lgbm_cv_model = GridSearchCV(lgbm,lgbm_params,\n",
    "                             cv = 10,\n",
    "                            n_jobs=-1,\n",
    "                            verbose=2)"
   ]
  },
  {
   "cell_type": "code",
   "execution_count": 18,
   "id": "12d3ce50",
   "metadata": {},
   "outputs": [
    {
     "name": "stdout",
     "output_type": "stream",
     "text": [
      "Fitting 10 folds for each of 576 candidates, totalling 5760 fits\n"
     ]
    }
   ],
   "source": [
    "lgbm_cv_model_fit = lgbm_cv_model.fit(x_train,y_train)"
   ]
  },
  {
   "cell_type": "code",
   "execution_count": 20,
   "id": "d5a0ab1e",
   "metadata": {},
   "outputs": [
    {
     "data": {
      "text/plain": [
       "{'learning_rate': 0.05,\n",
       " 'max_depth': 3,\n",
       " 'min_child_samples': 20,\n",
       " 'n_estimators': 100,\n",
       " 'subsample': 0.6}"
      ]
     },
     "execution_count": 20,
     "metadata": {},
     "output_type": "execute_result"
    }
   ],
   "source": [
    "lgbm_cv_model_fit.best_params_"
   ]
  },
  {
   "cell_type": "code",
   "execution_count": 21,
   "id": "796477f6",
   "metadata": {},
   "outputs": [],
   "source": [
    "lgbm = LGBMClassifier(learning_rate=0.05,\n",
    "                     max_depth=3,\n",
    "                     min_child_samples=20,\n",
    "                     n_estimators=100,\n",
    "                     subsample=0.6)"
   ]
  },
  {
   "cell_type": "code",
   "execution_count": 22,
   "id": "72bc8d15",
   "metadata": {},
   "outputs": [],
   "source": [
    "lgbm_tuned = lgbm.fit(x_train,y_train)"
   ]
  },
  {
   "cell_type": "code",
   "execution_count": 23,
   "id": "d36e16f9",
   "metadata": {},
   "outputs": [
    {
     "data": {
      "text/plain": [
       "0.7489177489177489"
      ]
     },
     "execution_count": 23,
     "metadata": {},
     "output_type": "execute_result"
    }
   ],
   "source": [
    "y_pred = lgbm_tuned.predict(x_test)\n",
    "accuracy_score(y_pred,y_test)"
   ]
  },
  {
   "cell_type": "code",
   "execution_count": null,
   "id": "66af160f",
   "metadata": {},
   "outputs": [],
   "source": []
  }
 ],
 "metadata": {
  "kernelspec": {
   "display_name": "Python 3 (ipykernel)",
   "language": "python",
   "name": "python3"
  },
  "language_info": {
   "codemirror_mode": {
    "name": "ipython",
    "version": 3
   },
   "file_extension": ".py",
   "mimetype": "text/x-python",
   "name": "python",
   "nbconvert_exporter": "python",
   "pygments_lexer": "ipython3",
   "version": "3.9.12"
  }
 },
 "nbformat": 4,
 "nbformat_minor": 5
}
